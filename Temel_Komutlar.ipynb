{
  "nbformat": 4,
  "nbformat_minor": 0,
  "metadata": {
    "kernelspec": {
      "display_name": "Python 3",
      "language": "python",
      "name": "python3"
    },
    "language_info": {
      "codemirror_mode": {
        "name": "ipython",
        "version": 3
      },
      "file_extension": ".py",
      "mimetype": "text/x-python",
      "name": "python",
      "nbconvert_exporter": "python",
      "pygments_lexer": "ipython3",
      "version": "3.8.3"
    },
    "colab": {
      "name": "Temel Komutlar.ipynb",
      "provenance": [],
      "collapsed_sections": [
        "-AwQH8fsEpFH",
        "sJP3E6lHEpFO",
        "S6oMNQYAEpFU",
        "X7UF69GrEpFX",
        "qbc5V0K3EpFa",
        "7KVKGWSkEpFc",
        "pjjYdHRhEpFe",
        "w_jijAs_EpFf"
      ],
      "include_colab_link": true
    }
  },
  "cells": [
    {
      "cell_type": "markdown",
      "metadata": {
        "id": "view-in-github",
        "colab_type": "text"
      },
      "source": [
        "<a href=\"https://colab.research.google.com/github/pyladiesankara/Temel-Komutlar/blob/main/Temel_Komutlar.ipynb\" target=\"_parent\"><img src=\"https://colab.research.google.com/assets/colab-badge.svg\" alt=\"Open In Colab\"/></a>"
      ]
    },
    {
      "cell_type": "markdown",
      "metadata": {
        "id": "IP7c8Z7MEpE3"
      },
      "source": [
        "Anlatım Videosu;<a href=\"https://youtu.be/nrvRMciyJRc?t=343\">Videolinki</a>\r\n"
      ]
    },
    {
      "cell_type": "markdown",
      "metadata": {
        "id": "VmQtgg4hEpE3"
      },
      "source": [
        "# TEMEL VERİ TİPLERİ"
      ]
    },
    {
      "cell_type": "markdown",
      "metadata": {
        "id": "pTwiNgrsEpE4"
      },
      "source": [
        "# -Karakter Dizileri/String"
      ]
    },
    {
      "cell_type": "code",
      "metadata": {
        "id": "y_xX0Y2hEpE4"
      },
      "source": [
        "\"\"\"\n",
        ">Bir veya daha fazla karakterden oluşan öğelere karakter dizisi (string) denir.\n",
        ">Python’da tırnak içinde gösterdiğiniz her şey bir karakter dizisidir.\n",
        "\n",
        "\"\"\""
      ],
      "execution_count": null,
      "outputs": []
    },
    {
      "cell_type": "code",
      "metadata": {
        "id": "k5Ctr3yEEpE4"
      },
      "source": [
        ""
      ],
      "execution_count": null,
      "outputs": []
    },
    {
      "cell_type": "code",
      "metadata": {
        "id": "1iAtv8zDEpE5"
      },
      "source": [
        "#Tırnak içinde bir string oluşturduk.\n",
        "print(\"Hello World!\") #print fonksiyonu ekrana çıktı vermemizi sağlar.\n"
      ],
      "execution_count": null,
      "outputs": []
    },
    {
      "cell_type": "code",
      "metadata": {
        "id": "z57CTfXUEpE5"
      },
      "source": [
        ""
      ],
      "execution_count": null,
      "outputs": []
    },
    {
      "cell_type": "code",
      "metadata": {
        "id": "uDH4T7XzEpE5"
      },
      "source": [
        "#Bir değişkene bir string atadık.\n",
        "Hi = \"Hello World!\"\n",
        "print(Hi)  #print fonksiyonun içine değişken olduğu gibi yazılır."
      ],
      "execution_count": null,
      "outputs": []
    },
    {
      "cell_type": "code",
      "metadata": {
        "id": "x3-7sDcoEpE5"
      },
      "source": [
        "Hi = \"Hello World!\"\n",
        "print(\"Hi\") #Değişkenimizi çift tırnak içinde yazarsak bu bir stringe dönüşür ve çıktı olarak bu string basılır!"
      ],
      "execution_count": null,
      "outputs": []
    },
    {
      "cell_type": "code",
      "metadata": {
        "id": "MQAY0X2PEpE6"
      },
      "source": [
        "hi = 'Hello World!' #Tek tırnak işareti ile de string oluşturulabilir.\n",
        "print(hi)"
      ],
      "execution_count": null,
      "outputs": []
    },
    {
      "cell_type": "code",
      "metadata": {
        "id": "XtbCFmDMEpE6"
      },
      "source": [
        ""
      ],
      "execution_count": null,
      "outputs": []
    },
    {
      "cell_type": "code",
      "metadata": {
        "id": "OcnOczWrEpE6"
      },
      "source": [
        "type(\"Hello World!\") #type() fonksiyonu bir nesnenin hangi veri tipine ait olduğunu gösterir."
      ],
      "execution_count": null,
      "outputs": []
    },
    {
      "cell_type": "code",
      "metadata": {
        "id": "dd8AfUGREpE6"
      },
      "source": [
        ""
      ],
      "execution_count": null,
      "outputs": []
    },
    {
      "cell_type": "code",
      "metadata": {
        "id": "hKB3kjFDEpE7"
      },
      "source": [
        "type(hi)"
      ],
      "execution_count": null,
      "outputs": []
    },
    {
      "cell_type": "code",
      "metadata": {
        "id": "eoPI5dumEpE7"
      },
      "source": [
        ""
      ],
      "execution_count": null,
      "outputs": []
    },
    {
      "cell_type": "code",
      "metadata": {
        "id": "ZMFLIdAOEpE7"
      },
      "source": [
        "print(\"Hello\"+\"World\"+\"!\") #stringleri bu şekilde toplayabiliriz."
      ],
      "execution_count": null,
      "outputs": []
    },
    {
      "cell_type": "code",
      "metadata": {
        "id": "Yq6gSBPoEpE7"
      },
      "source": [
        ""
      ],
      "execution_count": null,
      "outputs": []
    },
    {
      "cell_type": "code",
      "metadata": {
        "id": "P8-uhVuaEpE7"
      },
      "source": [
        "print(\"Hello\"+\" \"+\"World\"+\"!\")"
      ],
      "execution_count": null,
      "outputs": []
    },
    {
      "cell_type": "code",
      "metadata": {
        "id": "50tSgy5tEpE8"
      },
      "source": [
        ""
      ],
      "execution_count": null,
      "outputs": []
    },
    {
      "cell_type": "code",
      "metadata": {
        "id": "CnRM8Xh5EpE8"
      },
      "source": [
        "print(\"Hello\",\"World\"\"!\", sep=\" \") #sep parametresi bir ayraç görevi görerek stringler arasına boşluk koyar."
      ],
      "execution_count": null,
      "outputs": []
    },
    {
      "cell_type": "code",
      "metadata": {
        "id": "yYwvkLfzEpE8"
      },
      "source": [
        ""
      ],
      "execution_count": null,
      "outputs": []
    },
    {
      "cell_type": "code",
      "metadata": {
        "id": "vLKB2f4WEpE8"
      },
      "source": [
        "\"\"\"\n",
        "sep parametresini kullanırken tırnak içerisine yerleştirdiğimiz nesne,ekrana basılacak ögelerin arasına hangi karakterin \n",
        "yerleşeceğini belirtir. \n",
        "\n",
        "\"\"\" \n",
        "print(\"Hello\",\"World\"\"!\", sep=\"--\")"
      ],
      "execution_count": null,
      "outputs": []
    },
    {
      "cell_type": "code",
      "metadata": {
        "id": "r3bYon49EpE8"
      },
      "source": [
        ""
      ],
      "execution_count": null,
      "outputs": []
    },
    {
      "cell_type": "code",
      "metadata": {
        "id": "ziKf8mfvEpE8"
      },
      "source": [
        ""
      ],
      "execution_count": null,
      "outputs": []
    },
    {
      "cell_type": "code",
      "metadata": {
        "id": "a4jNX-ZhEpE9"
      },
      "source": [
        "print(\"_\"*10) #bir nesneyi birden fazla yazdırmak için * ı kullanabilirsiniz."
      ],
      "execution_count": null,
      "outputs": []
    },
    {
      "cell_type": "code",
      "metadata": {
        "id": "bEwfxkI1EpE9"
      },
      "source": [
        "print(\"selam\"*3)"
      ],
      "execution_count": null,
      "outputs": []
    },
    {
      "cell_type": "code",
      "metadata": {
        "id": "zEBbaSBOEpE9"
      },
      "source": [
        "len(\"Hello World!\") #len fonksiyonu nesnelerin uzunluğunu ekrana basar."
      ],
      "execution_count": null,
      "outputs": []
    },
    {
      "cell_type": "code",
      "metadata": {
        "id": "_9mqMJzXEpE9"
      },
      "source": [
        ""
      ],
      "execution_count": null,
      "outputs": []
    },
    {
      "cell_type": "code",
      "metadata": {
        "id": "MDyU0g7xEpE9"
      },
      "source": [
        "print(len(hi))"
      ],
      "execution_count": null,
      "outputs": []
    },
    {
      "cell_type": "code",
      "metadata": {
        "id": "lM_NbBa7EpE9"
      },
      "source": [
        "print(hi)"
      ],
      "execution_count": null,
      "outputs": []
    },
    {
      "cell_type": "code",
      "metadata": {
        "id": "P21GsVrLEpE-"
      },
      "source": [
        "print(hi+len(hi)) #bir string ile bir sayıyı bu şekilde ekrana bastırmaya çalışırsak hata verecektir."
      ],
      "execution_count": null,
      "outputs": []
    },
    {
      "cell_type": "code",
      "metadata": {
        "id": "msQKeCe8EpE-"
      },
      "source": [
        ""
      ],
      "execution_count": null,
      "outputs": []
    },
    {
      "cell_type": "code",
      "metadata": {
        "id": "1PwkpDnvEpE-"
      },
      "source": [
        "print(hi+str(len(hi))) #str fonksiyonu ile bir sayıyı stringe çevirerek ekrana basabiliriz."
      ],
      "execution_count": null,
      "outputs": []
    },
    {
      "cell_type": "code",
      "metadata": {
        "id": "QVdTk9c_EpE-"
      },
      "source": [
        ""
      ],
      "execution_count": null,
      "outputs": []
    },
    {
      "cell_type": "code",
      "metadata": {
        "id": "ZDPlmlYkEpE-"
      },
      "source": [
        "PyLadies = \"Ankara\""
      ],
      "execution_count": null,
      "outputs": []
    },
    {
      "cell_type": "code",
      "metadata": {
        "id": "Sa2fRlekEpE-"
      },
      "source": [
        ""
      ],
      "execution_count": null,
      "outputs": []
    },
    {
      "cell_type": "code",
      "metadata": {
        "id": "FnOdZoiAEpE_"
      },
      "source": [
        "\"\"\"\n",
        "Bir değişkendeki ögelerin indekslerini bukurken köşeli parantez kullanılır.\n",
        "indekslerden baştan sayılmaya başlanırken 0 ile sayılmaya başlanır.\n",
        "\n",
        "\"\"\"\n",
        "print(PyLadies[0])\n",
        "print(PyLadies[1])\n",
        "print(PyLadies[2])\n",
        "print(PyLadies[3])\n",
        "print(PyLadies[4])\n",
        "print(PyLadies[5])"
      ],
      "execution_count": null,
      "outputs": []
    },
    {
      "cell_type": "code",
      "metadata": {
        "id": "3adevMriEpE_"
      },
      "source": [
        "print(PyLadies[2:5]) #2.indeksten 5.indekse kadar(5.indeks dahil olmamak kaydıyla) olan ögeleri basar."
      ],
      "execution_count": null,
      "outputs": []
    },
    {
      "cell_type": "code",
      "metadata": {
        "id": "cptdQXYTEpE_"
      },
      "source": [
        ""
      ],
      "execution_count": null,
      "outputs": []
    },
    {
      "cell_type": "code",
      "metadata": {
        "id": "HBxUWmXuEpE_"
      },
      "source": [
        "Pazar = \"BugünPazar!\""
      ],
      "execution_count": null,
      "outputs": []
    },
    {
      "cell_type": "code",
      "metadata": {
        "id": "MZbkTENbEpFA"
      },
      "source": [
        "len(Pazar)"
      ],
      "execution_count": null,
      "outputs": []
    },
    {
      "cell_type": "code",
      "metadata": {
        "id": "CwefEFbgEpFA"
      },
      "source": [
        ""
      ],
      "execution_count": null,
      "outputs": []
    },
    {
      "cell_type": "code",
      "metadata": {
        "id": "psrRS9a1EpFA"
      },
      "source": [
        "print(Pazar[2:9:2])  #[a:b:c] start:end:step"
      ],
      "execution_count": null,
      "outputs": []
    },
    {
      "cell_type": "code",
      "metadata": {
        "id": "LdyafvX7EpFB"
      },
      "source": [
        "print(Pazar[2])\n",
        "print(Pazar[9])"
      ],
      "execution_count": null,
      "outputs": []
    },
    {
      "cell_type": "code",
      "metadata": {
        "id": "BB6y-fSqEpFB"
      },
      "source": [
        ""
      ],
      "execution_count": null,
      "outputs": []
    },
    {
      "cell_type": "code",
      "metadata": {
        "id": "d32WPCcvEpFB"
      },
      "source": [
        "Pazar"
      ],
      "execution_count": null,
      "outputs": []
    },
    {
      "cell_type": "code",
      "metadata": {
        "id": "AuHx4xykEpFB"
      },
      "source": [
        "\"\"\"\n",
        "sondan başa doğru indeks sayarken -1 ile başlanır.\n",
        "\n",
        "\"\"\"\n",
        "print(\"-1:\",Pazar[-1])\n",
        "print(\"-2:\",Pazar[-2])\n",
        "print(\"-3:\",Pazar[-3])\n",
        "print(\"-4:\",Pazar[-4])\n",
        "print(\"-5:\",Pazar[-5])\n",
        "print(\"-6:\",Pazar[-6])\n",
        "print(\"-7:\",Pazar[-7])"
      ],
      "execution_count": null,
      "outputs": []
    },
    {
      "cell_type": "code",
      "metadata": {
        "id": "Qp1RTNkiEpFB"
      },
      "source": [
        "\"\"\"\n",
        "bir ögenin elimizdeki değişkende olup olmadığını görmek için 'in' veya 'not in' den yararlanabiliriz.\n",
        "\n",
        "\"\"\""
      ],
      "execution_count": null,
      "outputs": []
    },
    {
      "cell_type": "code",
      "metadata": {
        "id": "yezYEufDEpFC"
      },
      "source": [
        "\"p\" in Pazar"
      ],
      "execution_count": null,
      "outputs": []
    },
    {
      "cell_type": "code",
      "metadata": {
        "id": "Yj_RUaTdEpFC"
      },
      "source": [
        "\"P\" in Pazar"
      ],
      "execution_count": null,
      "outputs": []
    },
    {
      "cell_type": "code",
      "metadata": {
        "id": "EJX4ESP-EpFC"
      },
      "source": [
        "\"Pzr\" in Pazar"
      ],
      "execution_count": null,
      "outputs": []
    },
    {
      "cell_type": "code",
      "metadata": {
        "id": "SXXKR5GwEpFC"
      },
      "source": [
        "\"ugü\" in Pazar"
      ],
      "execution_count": null,
      "outputs": []
    },
    {
      "cell_type": "code",
      "metadata": {
        "id": "kDJ6xiBgEpFD"
      },
      "source": [
        "\"R\" not in Pazar"
      ],
      "execution_count": null,
      "outputs": []
    },
    {
      "cell_type": "code",
      "metadata": {
        "id": "I-pk0QeLEpFD"
      },
      "source": [
        ""
      ],
      "execution_count": null,
      "outputs": []
    },
    {
      "cell_type": "code",
      "metadata": {
        "id": "H_oE5t1FEpFD"
      },
      "source": [
        ""
      ],
      "execution_count": null,
      "outputs": []
    },
    {
      "cell_type": "code",
      "metadata": {
        "scrolled": true,
        "id": "xHjTsGCbEpFE"
      },
      "source": [
        "word = \"string\"\n",
        "print (word.capitalize())  # İlk harf büyük \"String\"\n",
        "print (word.upper())       # Hepsi büyük \"STRING\"\n",
        "print (word.rjust(15))     # Sağa yasla\n",
        "print (word.center(15))    # Merkeze ortala\n",
        "print (word.replace('string', 'string1'))  # \"string\"leri \"string1\" ile değiştirelim\n",
        "print ('        temel komutlar >_< '.strip())  # boşlukları silmek için strip() kullanılır"
      ],
      "execution_count": null,
      "outputs": []
    },
    {
      "cell_type": "code",
      "metadata": {
        "id": "dlSNMpxDEpFE"
      },
      "source": [
        ""
      ],
      "execution_count": null,
      "outputs": []
    },
    {
      "cell_type": "code",
      "metadata": {
        "id": "t2zNGZ6bEpFF"
      },
      "source": [
        "word2 = \"İyi akşamlar!\"\n",
        "print(word2)\n",
        "print(word2.split()) "
      ],
      "execution_count": null,
      "outputs": []
    },
    {
      "cell_type": "code",
      "metadata": {
        "id": "TdjFgay6EpFF"
      },
      "source": [
        "\"\"\"\n",
        "split fonksiyonu parantez içine atadığınız parametrelerden karakter dizisini böler.\n",
        "\"\"\""
      ],
      "execution_count": null,
      "outputs": []
    },
    {
      "cell_type": "code",
      "metadata": {
        "id": "oNXOL1bGEpFF"
      },
      "source": [
        "word3 = \"kedi,köpek,at,kuş,fare\"\n",
        "print(word3.split(\",\"))\n",
        "print(word3.split(\",\" , 3))\n",
        "print(word3.split(\",\" , 1))"
      ],
      "execution_count": null,
      "outputs": []
    },
    {
      "cell_type": "code",
      "metadata": {
        "id": "lulycJCHEpFG"
      },
      "source": [
        ""
      ],
      "execution_count": null,
      "outputs": []
    },
    {
      "cell_type": "code",
      "metadata": {
        "id": "7FQTsU2JEpFG"
      },
      "source": [
        ""
      ],
      "execution_count": null,
      "outputs": []
    },
    {
      "cell_type": "code",
      "metadata": {
        "id": "qb_Oo3AUEpFH"
      },
      "source": [
        ""
      ],
      "execution_count": null,
      "outputs": []
    },
    {
      "cell_type": "markdown",
      "metadata": {
        "id": "-AwQH8fsEpFH"
      },
      "source": [
        "# -Sayılar"
      ]
    },
    {
      "cell_type": "code",
      "metadata": {
        "id": "GcQdmffSEpFH"
      },
      "source": [
        "\"\"\"\n",
        "Bu bölümde float ve integer olmak üzere iki tip sayıdan bahsedilecektir.\n",
        "\n",
        "\"\"\""
      ],
      "execution_count": null,
      "outputs": []
    },
    {
      "cell_type": "code",
      "metadata": {
        "id": "4EBjOwZpEpFI"
      },
      "source": [
        "type(23) #int=integer yani tam sayı anlamına gelir."
      ],
      "execution_count": null,
      "outputs": []
    },
    {
      "cell_type": "code",
      "metadata": {
        "id": "UaMvLALpEpFI"
      },
      "source": [
        "type(23.2) #float ondalık sayı anlamındadır."
      ],
      "execution_count": null,
      "outputs": []
    },
    {
      "cell_type": "code",
      "metadata": {
        "id": "u6DuMOjzEpFI"
      },
      "source": [
        ""
      ],
      "execution_count": null,
      "outputs": []
    },
    {
      "cell_type": "code",
      "metadata": {
        "id": "CLZLA_BDEpFJ"
      },
      "source": [
        "print(type(\"2020\")) #Tırnak içinde 2020 yazdığımızdan bu bir stringe dönüşmüş olur."
      ],
      "execution_count": null,
      "outputs": []
    },
    {
      "cell_type": "code",
      "metadata": {
        "id": "KgUZ0E5KEpFJ"
      },
      "source": [
        ""
      ],
      "execution_count": null,
      "outputs": []
    },
    {
      "cell_type": "code",
      "metadata": {
        "id": "D89IDUg_EpFJ"
      },
      "source": [
        "print(type(2020))"
      ],
      "execution_count": null,
      "outputs": []
    },
    {
      "cell_type": "code",
      "metadata": {
        "id": "RhKKYLBHEpFK"
      },
      "source": [
        ""
      ],
      "execution_count": null,
      "outputs": []
    },
    {
      "cell_type": "code",
      "metadata": {
        "id": "yCcwQ6zXEpFK"
      },
      "source": [
        "\"\"\"\n",
        "İşleç Görevi\n",
        "\n",
        "+ toplama\n",
        "\n",
        "- çıkarma\n",
        "\n",
        "* çarpma\n",
        "\n",
        "/ bölme\n",
        "\n",
        "** üs alma\n",
        "\n",
        "\"\"\""
      ],
      "execution_count": null,
      "outputs": []
    },
    {
      "cell_type": "code",
      "metadata": {
        "id": "bi-bsptLEpFK"
      },
      "source": [
        "20+20"
      ],
      "execution_count": null,
      "outputs": []
    },
    {
      "cell_type": "code",
      "metadata": {
        "id": "Wai3IpZ1EpFK"
      },
      "source": [
        ""
      ],
      "execution_count": null,
      "outputs": []
    },
    {
      "cell_type": "code",
      "metadata": {
        "id": "lwWr_TCKEpFK"
      },
      "source": [
        "20/2 #Tek / kullandığımız zaman sonucu float değer elde ederiz."
      ],
      "execution_count": null,
      "outputs": []
    },
    {
      "cell_type": "code",
      "metadata": {
        "id": "JQ6eZCEYEpFL"
      },
      "source": [
        "20//2 #Çift // kullanıldığında integer değer elde edilir."
      ],
      "execution_count": null,
      "outputs": []
    },
    {
      "cell_type": "code",
      "metadata": {
        "id": "Oyf0t8tgEpFL"
      },
      "source": [
        "20/3"
      ],
      "execution_count": null,
      "outputs": []
    },
    {
      "cell_type": "code",
      "metadata": {
        "id": "N7JpDOW7EpFL"
      },
      "source": [
        "20//3"
      ],
      "execution_count": null,
      "outputs": []
    },
    {
      "cell_type": "code",
      "metadata": {
        "id": "FHbodDxuEpFL"
      },
      "source": [
        "type(20//3)"
      ],
      "execution_count": null,
      "outputs": []
    },
    {
      "cell_type": "code",
      "metadata": {
        "id": "mB0N7QM4EpFL"
      },
      "source": [
        "type(20/3)"
      ],
      "execution_count": null,
      "outputs": []
    },
    {
      "cell_type": "code",
      "metadata": {
        "id": "g84vR60OEpFL"
      },
      "source": [
        ""
      ],
      "execution_count": null,
      "outputs": []
    },
    {
      "cell_type": "code",
      "metadata": {
        "id": "w9LPvkG9EpFM"
      },
      "source": [
        ""
      ],
      "execution_count": null,
      "outputs": []
    },
    {
      "cell_type": "code",
      "metadata": {
        "id": "YBvTWIk2EpFM"
      },
      "source": [
        "2**3 # ** bir üs alma ifadesidir."
      ],
      "execution_count": null,
      "outputs": []
    },
    {
      "cell_type": "code",
      "metadata": {
        "id": "ZDYaXGRGEpFM"
      },
      "source": [
        ""
      ],
      "execution_count": null,
      "outputs": []
    },
    {
      "cell_type": "code",
      "metadata": {
        "id": "QobrE4s1EpFM"
      },
      "source": [
        "20-10"
      ],
      "execution_count": null,
      "outputs": []
    },
    {
      "cell_type": "code",
      "metadata": {
        "id": "KkQsioBcEpFM"
      },
      "source": [
        ""
      ],
      "execution_count": null,
      "outputs": []
    },
    {
      "cell_type": "code",
      "metadata": {
        "id": "M9jDIrLqEpFM"
      },
      "source": [
        "\"20\"+\"10\" #Tırnak içinde yazılan ögeler stringe dönüşmüştür ve sonuç bir string olur."
      ],
      "execution_count": null,
      "outputs": []
    },
    {
      "cell_type": "code",
      "metadata": {
        "id": "FLZRC6nmEpFM"
      },
      "source": [
        ""
      ],
      "execution_count": null,
      "outputs": []
    },
    {
      "cell_type": "code",
      "metadata": {
        "id": "ajD_dHSGEpFN"
      },
      "source": [
        "type(20+23.6)"
      ],
      "execution_count": null,
      "outputs": []
    },
    {
      "cell_type": "code",
      "metadata": {
        "id": "dY38M0qLEpFN"
      },
      "source": [
        ""
      ],
      "execution_count": null,
      "outputs": []
    },
    {
      "cell_type": "code",
      "metadata": {
        "id": "yjrMwmIlEpFN"
      },
      "source": [
        "x = 3\n",
        "x += 1   # x değişkenine x+1 değerini yazarak yeni bir x değeri elde ediyoruz.\n",
        "print(x)\n",
        "print(x+2)"
      ],
      "execution_count": null,
      "outputs": []
    },
    {
      "cell_type": "code",
      "metadata": {
        "id": "KabCGw1qEpFN"
      },
      "source": [
        ""
      ],
      "execution_count": null,
      "outputs": []
    },
    {
      "cell_type": "code",
      "metadata": {
        "id": "eGWvxWVYEpFN"
      },
      "source": [
        ""
      ],
      "execution_count": null,
      "outputs": []
    },
    {
      "cell_type": "code",
      "metadata": {
        "id": "uHOVvdhJEpFN"
      },
      "source": [
        "print(10/2)\n",
        "print(10//2)"
      ],
      "execution_count": null,
      "outputs": []
    },
    {
      "cell_type": "code",
      "metadata": {
        "id": "RU_43LYuEpFN"
      },
      "source": [
        "print(type(5.0))\n",
        "print(type(5))"
      ],
      "execution_count": null,
      "outputs": []
    },
    {
      "cell_type": "code",
      "metadata": {
        "id": "NoYKxenIEpFO"
      },
      "source": [
        ""
      ],
      "execution_count": null,
      "outputs": []
    },
    {
      "cell_type": "code",
      "metadata": {
        "id": "TByjGcvYEpFO"
      },
      "source": [
        "z=2\n",
        "z *=3 #z değeri yerine z*3 \n",
        "print(z)"
      ],
      "execution_count": null,
      "outputs": []
    },
    {
      "cell_type": "code",
      "metadata": {
        "id": "AlblokOTEpFO"
      },
      "source": [
        "z*2"
      ],
      "execution_count": null,
      "outputs": []
    },
    {
      "cell_type": "code",
      "metadata": {
        "id": "DW7B412vEpFO"
      },
      "source": [
        ""
      ],
      "execution_count": null,
      "outputs": []
    },
    {
      "cell_type": "markdown",
      "metadata": {
        "id": "sJP3E6lHEpFO"
      },
      "source": [
        "# LİSTELER/LISTS"
      ]
    },
    {
      "cell_type": "code",
      "metadata": {
        "id": "orwsFEqjEpFO"
      },
      "source": [
        ""
      ],
      "execution_count": null,
      "outputs": []
    },
    {
      "cell_type": "code",
      "metadata": {
        "id": "hNstqAtjEpFP"
      },
      "source": [
        "mylis = [ ] #Bir liste tanımlamak için köşeli parantez kullanılır."
      ],
      "execution_count": null,
      "outputs": []
    },
    {
      "cell_type": "code",
      "metadata": {
        "id": "CJg55AGZEpFP"
      },
      "source": [
        "mylis1 = [6,12,2020] #Köşeli parantez kullanarak tanımlanan listenin içindeki ögeleri virgülle ayrılır."
      ],
      "execution_count": null,
      "outputs": []
    },
    {
      "cell_type": "code",
      "metadata": {
        "id": "CptRCiB6EpFP"
      },
      "source": [
        "mylis2 = [\"PyLadies\" , \"Ankara\"]"
      ],
      "execution_count": null,
      "outputs": []
    },
    {
      "cell_type": "code",
      "metadata": {
        "id": "xU14hAnjEpFP"
      },
      "source": [
        "type(mylis2)"
      ],
      "execution_count": null,
      "outputs": []
    },
    {
      "cell_type": "code",
      "metadata": {
        "id": "dnzXoIm7EpFP"
      },
      "source": [
        ""
      ],
      "execution_count": null,
      "outputs": []
    },
    {
      "cell_type": "code",
      "metadata": {
        "id": "h0oUnsCoEpFP"
      },
      "source": [
        "print(mylis1[2]) #listeadı[index] yöntemi ile listedeki belirli bir index seçilir."
      ],
      "execution_count": null,
      "outputs": []
    },
    {
      "cell_type": "code",
      "metadata": {
        "id": "1_1eOGZtEpFQ"
      },
      "source": [
        ""
      ],
      "execution_count": null,
      "outputs": []
    },
    {
      "cell_type": "code",
      "metadata": {
        "id": "lh-YwsA8EpFQ"
      },
      "source": [
        "\"\"\"\n",
        "Bir indexe yeni bir değer atamak için listeadı[atanılacak index] = değer    yöntemi kullanılır.\n",
        "\n",
        "\"\"\"\n",
        "\n",
        "mylis2[0] = \"Merhaba!\" \n"
      ],
      "execution_count": null,
      "outputs": []
    },
    {
      "cell_type": "code",
      "metadata": {
        "id": "UNbTkOnMEpFQ"
      },
      "source": [
        "print(mylis2)"
      ],
      "execution_count": null,
      "outputs": []
    },
    {
      "cell_type": "code",
      "metadata": {
        "id": "hFQX4arJEpFQ"
      },
      "source": [
        "mylist=[1,2,3,4,5,\"tanışma\", \"toplantısı\",\"ankara\",\"ankara\"]"
      ],
      "execution_count": null,
      "outputs": []
    },
    {
      "cell_type": "code",
      "metadata": {
        "id": "xCu99fdeEpFQ"
      },
      "source": [
        "len(mylist)"
      ],
      "execution_count": null,
      "outputs": []
    },
    {
      "cell_type": "code",
      "metadata": {
        "id": "-hbNYyRGEpFR"
      },
      "source": [
        "\"\"\"\n",
        "append fonksiyonu listeadı.append(eklenecek değer) şeklinde kullanılır ve listeye yeni bir değer eklenmesini sağlar\n",
        "\n",
        "\"\"\"\n",
        "mylist.append(\"PyLadies\")\n",
        "print(mylist)"
      ],
      "execution_count": null,
      "outputs": []
    },
    {
      "cell_type": "code",
      "metadata": {
        "id": "6PEQz99WEpFR"
      },
      "source": [
        ""
      ],
      "execution_count": null,
      "outputs": []
    },
    {
      "cell_type": "code",
      "metadata": {
        "id": "i7MAwob7EpFR"
      },
      "source": [
        "mylist.pop() #son ögeyi kaldırır\n",
        "print(mylist)"
      ],
      "execution_count": null,
      "outputs": []
    },
    {
      "cell_type": "code",
      "metadata": {
        "id": "CXp0x0YpEpFR"
      },
      "source": [
        ""
      ],
      "execution_count": null,
      "outputs": []
    },
    {
      "cell_type": "code",
      "metadata": {
        "id": "R4D20jflEpFR"
      },
      "source": [
        "mylist[2]  #Listedeki n. ci indexi gösterir."
      ],
      "execution_count": null,
      "outputs": []
    },
    {
      "cell_type": "code",
      "metadata": {
        "id": "PLB1V-iEEpFR"
      },
      "source": [
        "mylist.index(3) #Listede n.ci indexte bulunan değeri gösterir."
      ],
      "execution_count": null,
      "outputs": []
    },
    {
      "cell_type": "code",
      "metadata": {
        "id": "9qcZoEauEpFS"
      },
      "source": [
        ""
      ],
      "execution_count": null,
      "outputs": []
    },
    {
      "cell_type": "code",
      "metadata": {
        "id": "flWL5GWqEpFS"
      },
      "source": [
        "mylist.index(\"tanışma\")"
      ],
      "execution_count": null,
      "outputs": []
    },
    {
      "cell_type": "code",
      "metadata": {
        "id": "wPPebYrPEpFS"
      },
      "source": [
        ""
      ],
      "execution_count": null,
      "outputs": []
    },
    {
      "cell_type": "code",
      "metadata": {
        "id": "sL0UxpbfEpFS"
      },
      "source": [
        "mylist.remove(5) #Parantez içine yazılan değeri listeden kaldırır."
      ],
      "execution_count": null,
      "outputs": []
    },
    {
      "cell_type": "code",
      "metadata": {
        "id": "xNsU56rzEpFS"
      },
      "source": [
        "print(mylist)"
      ],
      "execution_count": null,
      "outputs": []
    },
    {
      "cell_type": "code",
      "metadata": {
        "id": "GNMT_qqDEpFS"
      },
      "source": [
        ""
      ],
      "execution_count": null,
      "outputs": []
    },
    {
      "cell_type": "code",
      "metadata": {
        "id": "UnGj8r2_EpFT"
      },
      "source": [
        ""
      ],
      "execution_count": null,
      "outputs": []
    },
    {
      "cell_type": "code",
      "metadata": {
        "id": "VrxTtFQuEpFT"
      },
      "source": [
        "#count fonksiyonu parantez içine yazılan değerin listede kaç kez geçtiğini sayar.\n",
        "listem = [2,2,2,3,5,4,9,9,9,7]\n",
        "listem.count(9)"
      ],
      "execution_count": null,
      "outputs": []
    },
    {
      "cell_type": "code",
      "metadata": {
        "id": "yMVBhf0VEpFT"
      },
      "source": [
        "#sort fonksiyonu listeyi stringler için alfabetik, sayısal değerler için küçükten büyüğe olacak şekilde sıralar.\n",
        "listem.sort()\n"
      ],
      "execution_count": null,
      "outputs": []
    },
    {
      "cell_type": "code",
      "metadata": {
        "id": "97QkRSUjEpFT"
      },
      "source": [
        "print(listem)"
      ],
      "execution_count": null,
      "outputs": []
    },
    {
      "cell_type": "code",
      "metadata": {
        "id": "CpGZXufOEpFT"
      },
      "source": [
        ""
      ],
      "execution_count": null,
      "outputs": []
    },
    {
      "cell_type": "code",
      "metadata": {
        "id": "IoLlB_v3EpFT"
      },
      "source": [
        "#reverse fonksiyonu sort fonksiyonun tam tersi işlem uygular.\n",
        "listem.reverse()\n",
        "print(listem)"
      ],
      "execution_count": null,
      "outputs": []
    },
    {
      "cell_type": "markdown",
      "metadata": {
        "id": "S6oMNQYAEpFU"
      },
      "source": [
        "# SÖZLÜKLER/DICTIONARIES"
      ]
    },
    {
      "cell_type": "code",
      "metadata": {
        "id": "inapXGnOEpFU"
      },
      "source": [
        "d = {} #Sözlükler süslü parantez kullanılarak tanımlanır. "
      ],
      "execution_count": null,
      "outputs": []
    },
    {
      "cell_type": "code",
      "metadata": {
        "id": "p_pif-GSEpFU"
      },
      "source": [
        "\"\"\"\n",
        "Sözlükler anahtarlar(keys) ve değerler(values) ögelerinden oluşur. Sözlükler anahtar ve değerler arasında birebir ilişki kurar.\n",
        "\"\"\"\n",
        "dic = {\"PyLadies\": \"Ankara\" , \"Tanışma\":\"Toplantısı\" , \"Yıl\":2020} \n"
      ],
      "execution_count": null,
      "outputs": []
    },
    {
      "cell_type": "code",
      "metadata": {
        "id": "vG9zJH4dEpFU"
      },
      "source": [
        "print(dic)"
      ],
      "execution_count": null,
      "outputs": []
    },
    {
      "cell_type": "code",
      "metadata": {
        "id": "jKcyNNHhEpFU"
      },
      "source": [
        ""
      ],
      "execution_count": null,
      "outputs": []
    },
    {
      "cell_type": "code",
      "metadata": {
        "id": "l2BszOHAEpFU"
      },
      "source": [
        "dic[\"PyLadies\"] #Bir anahtarın aldığı değeri gösterir."
      ],
      "execution_count": null,
      "outputs": []
    },
    {
      "cell_type": "code",
      "metadata": {
        "id": "fmazjjUQEpFV"
      },
      "source": [
        ""
      ],
      "execution_count": null,
      "outputs": []
    },
    {
      "cell_type": "code",
      "metadata": {
        "id": "J4BD5Tk6EpFV"
      },
      "source": [
        "dic[\"Yıl\"]"
      ],
      "execution_count": null,
      "outputs": []
    },
    {
      "cell_type": "code",
      "metadata": {
        "id": "ZgW0_F84EpFV"
      },
      "source": [
        ""
      ],
      "execution_count": null,
      "outputs": []
    },
    {
      "cell_type": "code",
      "metadata": {
        "id": "g48L3zQqEpFV"
      },
      "source": [
        "dic.keys() #Sözlükteki bütün anahtarları gösterir."
      ],
      "execution_count": null,
      "outputs": []
    },
    {
      "cell_type": "code",
      "metadata": {
        "id": "Ln3F1FTIEpFV"
      },
      "source": [
        ""
      ],
      "execution_count": null,
      "outputs": []
    },
    {
      "cell_type": "code",
      "metadata": {
        "id": "SIAdyTUWEpFV"
      },
      "source": [
        "print(dic.keys())"
      ],
      "execution_count": null,
      "outputs": []
    },
    {
      "cell_type": "code",
      "metadata": {
        "id": "mtvZOlClEpFV"
      },
      "source": [
        ""
      ],
      "execution_count": null,
      "outputs": []
    },
    {
      "cell_type": "code",
      "metadata": {
        "id": "FQNl56PyEpFW"
      },
      "source": [
        "dic.values() #Sözlükteki bütün değerleri gösterir."
      ],
      "execution_count": null,
      "outputs": []
    },
    {
      "cell_type": "code",
      "metadata": {
        "id": "B2QlEnfZEpFW"
      },
      "source": [
        ""
      ],
      "execution_count": null,
      "outputs": []
    },
    {
      "cell_type": "code",
      "metadata": {
        "id": "Y7KN3pjoEpFW"
      },
      "source": [
        "dic.items() #Sözlükteki itemleri gösterir. Bir anahtar:değer ögesi bir itemi oluşturur."
      ],
      "execution_count": null,
      "outputs": []
    },
    {
      "cell_type": "code",
      "metadata": {
        "id": "tABQpQUBEpFW"
      },
      "source": [
        ""
      ],
      "execution_count": null,
      "outputs": []
    },
    {
      "cell_type": "code",
      "metadata": {
        "id": "OeVln0ZjEpFW"
      },
      "source": [
        "dic[\"Merhaba\"] = \"arkadaşlar\"  #Sözlüğe yeni bir anahtar:değer atar.\n",
        "print(dic)"
      ],
      "execution_count": null,
      "outputs": []
    },
    {
      "cell_type": "code",
      "metadata": {
        "id": "rZBqIhAeEpFW"
      },
      "source": [
        ""
      ],
      "execution_count": null,
      "outputs": []
    },
    {
      "cell_type": "code",
      "metadata": {
        "id": "mmTGPICiEpFW"
      },
      "source": [
        "dic.pop(\"Merhaba\") #pop() fonksiyonu parantez içine yazılan ögeyi sözlükten çıkarır.\n",
        "print(dic)"
      ],
      "execution_count": null,
      "outputs": []
    },
    {
      "cell_type": "code",
      "metadata": {
        "id": "IrVgL4uJEpFX"
      },
      "source": [
        ""
      ],
      "execution_count": null,
      "outputs": []
    },
    {
      "cell_type": "code",
      "metadata": {
        "id": "pRI_QEU8EpFX"
      },
      "source": [
        "\"PyLadies\" in dic #Bir ögenin sözlükte yer alıp almadığını kontrol eder."
      ],
      "execution_count": null,
      "outputs": []
    },
    {
      "cell_type": "code",
      "metadata": {
        "id": "jGxqFtcFEpFX"
      },
      "source": [
        ""
      ],
      "execution_count": null,
      "outputs": []
    },
    {
      "cell_type": "code",
      "metadata": {
        "id": "snFyDx-DEpFX"
      },
      "source": [
        "dic.get(\"Tanışma\") #Bir anahtarın değerini gösterir."
      ],
      "execution_count": null,
      "outputs": []
    },
    {
      "cell_type": "code",
      "metadata": {
        "id": "bZIcF5rHEpFX"
      },
      "source": [
        ""
      ],
      "execution_count": null,
      "outputs": []
    },
    {
      "cell_type": "markdown",
      "metadata": {
        "id": "X7UF69GrEpFX"
      },
      "source": [
        "# KÜMELER/SETS"
      ]
    },
    {
      "cell_type": "code",
      "metadata": {
        "id": "JrXOWCXXEpFX"
      },
      "source": [
        "\"\"\"\n",
        "Kümeler süslü parantezle oluşturulur. Sözlüklerden farkı anahtar ve değer içermemeleridir.\n",
        "\n",
        "\"\"\"\n",
        "s = {} #Bu şekilde oluşturulup değer atanmazsa python bir sözlük olarak algılar.  \n",
        "type(s)"
      ],
      "execution_count": null,
      "outputs": []
    },
    {
      "cell_type": "code",
      "metadata": {
        "id": "ac4QmcEFEpFY"
      },
      "source": [
        "set1 = {2,3,4,5,5,6,8,9} #Setler bir ögenin birden fazla tekrar etmesine izin vermez.\n",
        "type(set1)\n"
      ],
      "execution_count": null,
      "outputs": []
    },
    {
      "cell_type": "code",
      "metadata": {
        "id": "nHzrMhr6EpFY"
      },
      "source": [
        "print(set1)"
      ],
      "execution_count": null,
      "outputs": []
    },
    {
      "cell_type": "code",
      "metadata": {
        "id": "_n75G4_mEpFY"
      },
      "source": [
        ""
      ],
      "execution_count": null,
      "outputs": []
    },
    {
      "cell_type": "code",
      "metadata": {
        "id": "d69atp1xEpFY"
      },
      "source": [
        "set2 = set([3,5,8,\"selam\"]) #set()  fonksiyonu kullanarak listeyi sete çevirir. "
      ],
      "execution_count": null,
      "outputs": []
    },
    {
      "cell_type": "code",
      "metadata": {
        "id": "ZOqecWYfEpFY"
      },
      "source": [
        "print(type(set2))"
      ],
      "execution_count": null,
      "outputs": []
    },
    {
      "cell_type": "code",
      "metadata": {
        "id": "0tBm9P9aEpFY"
      },
      "source": [
        "print(set2)"
      ],
      "execution_count": null,
      "outputs": []
    },
    {
      "cell_type": "code",
      "metadata": {
        "id": "DlsljzU9EpFY"
      },
      "source": [
        ""
      ],
      "execution_count": null,
      "outputs": []
    },
    {
      "cell_type": "code",
      "metadata": {
        "id": "fUhCGTcUEpFZ"
      },
      "source": [
        "sett = set([3,6,5,8,9,9,9])\n",
        "print(sett)"
      ],
      "execution_count": null,
      "outputs": []
    },
    {
      "cell_type": "code",
      "metadata": {
        "id": "h70A84nMEpFZ"
      },
      "source": [
        ""
      ],
      "execution_count": null,
      "outputs": []
    },
    {
      "cell_type": "code",
      "metadata": {
        "id": "8Jnw7Go_EpFZ"
      },
      "source": [
        "myset = set(\"selamlar\")"
      ],
      "execution_count": null,
      "outputs": []
    },
    {
      "cell_type": "code",
      "metadata": {
        "id": "tLgdAkPOEpFZ"
      },
      "source": [
        "print(myset)"
      ],
      "execution_count": null,
      "outputs": []
    },
    {
      "cell_type": "code",
      "metadata": {
        "id": "ZzPKKwGNEpFZ"
      },
      "source": [
        ""
      ],
      "execution_count": null,
      "outputs": []
    },
    {
      "cell_type": "code",
      "metadata": {
        "id": "j4RTpIcVEpFZ"
      },
      "source": [
        "set2"
      ],
      "execution_count": null,
      "outputs": []
    },
    {
      "cell_type": "code",
      "metadata": {
        "id": "bKl3dxrkEpFZ"
      },
      "source": [
        ""
      ],
      "execution_count": null,
      "outputs": []
    },
    {
      "cell_type": "code",
      "metadata": {
        "id": "6NklzcOaEpFa"
      },
      "source": [
        "set2.add(97) #add() fonksiyonu setlere öge ekler.\n",
        "print(set2)"
      ],
      "execution_count": null,
      "outputs": []
    },
    {
      "cell_type": "code",
      "metadata": {
        "id": "vXjjdVfCEpFa"
      },
      "source": [
        ""
      ],
      "execution_count": null,
      "outputs": []
    },
    {
      "cell_type": "code",
      "metadata": {
        "id": "VS7cmWH0EpFa"
      },
      "source": [
        "set2.remove(97) #remove() fonksiyonu setlerden öge çıkarır.\n",
        "print(set2)"
      ],
      "execution_count": null,
      "outputs": []
    },
    {
      "cell_type": "code",
      "metadata": {
        "id": "aMXSy8TCEpFa"
      },
      "source": [
        ""
      ],
      "execution_count": null,
      "outputs": []
    },
    {
      "cell_type": "code",
      "metadata": {
        "id": "l_O5vzIGEpFa"
      },
      "source": [
        "len(set2)"
      ],
      "execution_count": null,
      "outputs": []
    },
    {
      "cell_type": "code",
      "metadata": {
        "id": "Nk2KYqS9EpFa"
      },
      "source": [
        ""
      ],
      "execution_count": null,
      "outputs": []
    },
    {
      "cell_type": "markdown",
      "metadata": {
        "id": "qbc5V0K3EpFa"
      },
      "source": [
        "# DEMETLER/TUPLES"
      ]
    },
    {
      "cell_type": "code",
      "metadata": {
        "id": "epWx2YbZEpFb"
      },
      "source": [
        "\"\"\"\n",
        "Demetler parantez ile oluşturulur. Listelere oldukça benzeseler de demetlerin listelerden farkı demetlerin değiiştirilemez \n",
        "bir veri tipi olmasıdır.\n",
        "\n",
        "\"\"\"\n",
        "demet = () "
      ],
      "execution_count": null,
      "outputs": []
    },
    {
      "cell_type": "code",
      "metadata": {
        "id": "CzO58EyDEpFb"
      },
      "source": [
        "dem = (2,9,3,5,8)\n",
        "print(dem)\n",
        "print(type(dem))"
      ],
      "execution_count": null,
      "outputs": []
    },
    {
      "cell_type": "code",
      "metadata": {
        "id": "lKxgE1eREpFb"
      },
      "source": [
        ""
      ],
      "execution_count": null,
      "outputs": []
    },
    {
      "cell_type": "code",
      "metadata": {
        "id": "erT_RGM1EpFb"
      },
      "source": [
        "tupl = (\"Python\" , 2020 , \"Öğreniyoruz\" )\n",
        "print(tupl[0])"
      ],
      "execution_count": null,
      "outputs": []
    },
    {
      "cell_type": "code",
      "metadata": {
        "id": "JtJmmGoTEpFb"
      },
      "source": [
        "print(tupl[3])"
      ],
      "execution_count": null,
      "outputs": []
    },
    {
      "cell_type": "code",
      "metadata": {
        "id": "WuLee4ezEpFc"
      },
      "source": [
        "print(tupl[2])"
      ],
      "execution_count": null,
      "outputs": []
    },
    {
      "cell_type": "code",
      "metadata": {
        "id": "riE2zXUMEpFc"
      },
      "source": [
        "tupl2 = (1,8,9,6,7,3,5)\n",
        "print(tupl2)\n",
        "print(len(tupl2))\n",
        "print(tupl2[:6])"
      ],
      "execution_count": null,
      "outputs": []
    },
    {
      "cell_type": "code",
      "metadata": {
        "id": "8nCDgA9EEpFc"
      },
      "source": [
        ""
      ],
      "execution_count": null,
      "outputs": []
    },
    {
      "cell_type": "code",
      "metadata": {
        "id": "YoeGlgGEEpFc"
      },
      "source": [
        "tupl2.index(6)"
      ],
      "execution_count": null,
      "outputs": []
    },
    {
      "cell_type": "code",
      "metadata": {
        "id": "f6mq7tzUEpFc"
      },
      "source": [
        "tupl2.count(8)"
      ],
      "execution_count": null,
      "outputs": []
    },
    {
      "cell_type": "code",
      "metadata": {
        "id": "t_O93G6KEpFc"
      },
      "source": [
        ""
      ],
      "execution_count": null,
      "outputs": []
    },
    {
      "cell_type": "markdown",
      "metadata": {
        "id": "7KVKGWSkEpFc"
      },
      "source": [
        "# KOŞUL DEYİMLERİ/IF STATEMENTS"
      ]
    },
    {
      "cell_type": "code",
      "metadata": {
        "id": "WeqK-1pMEpFd"
      },
      "source": [
        "\"\"\"\n",
        "if\n",
        "elif\n",
        "else\n",
        "\n",
        "\"\"\""
      ],
      "execution_count": null,
      "outputs": []
    },
    {
      "cell_type": "code",
      "metadata": {
        "id": "5sxY1vvgEpFd"
      },
      "source": [
        ""
      ],
      "execution_count": null,
      "outputs": []
    },
    {
      "cell_type": "code",
      "metadata": {
        "id": "8hcBUusiEpFd"
      },
      "source": [
        "yas = int(input(\"Lütfen Yaşınızı Giriniz: \"))\n",
        "\n",
        "if yas==18:\n",
        "    print(\"Hoşgeldiniz!\")\n",
        "elif yas<0:\n",
        "    print(\"Geçersiz bir sayı girdiniz\")\n",
        "elif yas<18:\n",
        "    print(\"Yaşınız yasal sınırın altında\")\n",
        "elif yas>18:\n",
        "    print(\"Bu site için fazla yaşlısınız :( \")\n"
      ],
      "execution_count": null,
      "outputs": []
    },
    {
      "cell_type": "code",
      "metadata": {
        "id": "GO_xGEBREpFd"
      },
      "source": [
        ""
      ],
      "execution_count": null,
      "outputs": []
    },
    {
      "cell_type": "code",
      "metadata": {
        "id": "PNwQyiSYEpFd"
      },
      "source": [
        "yas1 = int(input(\"Lütfen Yaşınızı Giriniz: \"))\n",
        "\n",
        "if yas1==18:\n",
        "    print(\"Hoşgeldiniz!\")\n",
        "if yas1<0:\n",
        "    print(\"Geçersiz bir sayı girdiniz\")\n",
        "if yas1<18:\n",
        "    print(\"Yaşınız yasal sınırın altında\")\n",
        "if yas1>18:\n",
        "    print(\"Bu site için fazla yaşlısınız :( \")\n"
      ],
      "execution_count": null,
      "outputs": []
    },
    {
      "cell_type": "code",
      "metadata": {
        "id": "JyKYK4XrEpFd"
      },
      "source": [
        ""
      ],
      "execution_count": null,
      "outputs": []
    },
    {
      "cell_type": "code",
      "metadata": {
        "id": "DtsYZCSOEpFe"
      },
      "source": [
        ""
      ],
      "execution_count": null,
      "outputs": []
    },
    {
      "cell_type": "code",
      "metadata": {
        "id": "TbAx2puAEpFe"
      },
      "source": [
        "gelir = int(input(\"Lütfen aylık gelirinizi giriniz: \"))\n",
        "\n",
        "if gelir<=1500:\n",
        "    print(\"Aylık faturalarınızın %50'si tarafımızca karşılanacaktır.\")\n",
        "elif 1500<gelir<=3000:\n",
        "    print(\"Aylık faturalarınızın %25'i tarafımızca karşılanacaktır.\")\n",
        "elif 3000<gelir<=5000:\n",
        "    print(\"Aylık faturalarınızın %10'u tarafımızca karşılanacaktır.\")\n",
        "else:\n",
        "    print(\"Aylık fatura yardım kampanyası kriterlerine uymamaktasınız.\")\n",
        "    "
      ],
      "execution_count": null,
      "outputs": []
    },
    {
      "cell_type": "code",
      "metadata": {
        "id": "AHuTVSTREpFe"
      },
      "source": [
        ""
      ],
      "execution_count": null,
      "outputs": []
    },
    {
      "cell_type": "code",
      "metadata": {
        "id": "6ND0nDv0EpFe"
      },
      "source": [
        ""
      ],
      "execution_count": null,
      "outputs": []
    },
    {
      "cell_type": "markdown",
      "metadata": {
        "id": "pjjYdHRhEpFe"
      },
      "source": [
        "# DÖNGÜLER/LOOPS"
      ]
    },
    {
      "cell_type": "markdown",
      "metadata": {
        "id": "w_jijAs_EpFf"
      },
      "source": [
        "# -WHILE LOOPS"
      ]
    },
    {
      "cell_type": "code",
      "metadata": {
        "id": "Fhwkdpx2EpFf"
      },
      "source": [
        "n = 0\n",
        "while n<10:\n",
        "    n = n+2\n",
        "    print(\"n değeri:\" , n)\n",
        "    "
      ],
      "execution_count": null,
      "outputs": []
    },
    {
      "cell_type": "code",
      "metadata": {
        "id": "umiyqiHGEpFf"
      },
      "source": [
        ""
      ],
      "execution_count": null,
      "outputs": []
    },
    {
      "cell_type": "code",
      "metadata": {
        "id": "bB774doPEpFf"
      },
      "source": [
        "rakam = int(input(\"Lütfen bir rakam giriniz: \"))\n",
        "\n",
        "while rakam < 0 or rakam >= 10:  \n",
        "  print(\"Girdiğiniz değer rakam değil!\")\n",
        "  değer = int(input(\"Lütfen bir rakam giriniz: \"))\n",
        "print(\"Bir rakam girdiniz!\") "
      ],
      "execution_count": null,
      "outputs": []
    },
    {
      "cell_type": "code",
      "metadata": {
        "id": "OYb9mOwtEpFg"
      },
      "source": [
        ""
      ],
      "execution_count": null,
      "outputs": []
    },
    {
      "cell_type": "code",
      "metadata": {
        "id": "komvMIpfEpFg"
      },
      "source": [
        "rakam = int(input(\"Lütfen bir rakam giriniz: \"))\n",
        "\n",
        "while rakam < 0 or rakam >= 10:  \n",
        "  print(\"Girdiğiniz değer rakam değil!\")\n",
        "  rakam = int(input(\"Lütfen bir rakam giriniz: \"))\n",
        "print(\"Bir rakam girdiniz!\") "
      ],
      "execution_count": null,
      "outputs": []
    },
    {
      "cell_type": "code",
      "metadata": {
        "id": "7MKV-2m6EpFh"
      },
      "source": [
        ""
      ],
      "execution_count": null,
      "outputs": []
    },
    {
      "cell_type": "code",
      "metadata": {
        "id": "bVZmrk7jEpFh"
      },
      "source": [
        ""
      ],
      "execution_count": null,
      "outputs": []
    },
    {
      "cell_type": "code",
      "metadata": {
        "id": "NrrTwxBVEpFh"
      },
      "source": [
        "Meyve=\"\"\"\n",
        "(e)Elma\n",
        "(v)Vişne\n",
        "(m)Muz\n",
        "(h)Hayır,tokum.\n",
        "\"\"\"\n",
        "print(Meyve)\n",
        "\n",
        "while True:\n",
        "    istek = input(\"Bugün neli turta yemek istersiniz?İstediğin meyveyi listeden seçebilirsin!!\")\n",
        "    \n",
        "    if istek==\"e\":\n",
        "        print(\"Elmalı turtanız hazır!\")\n",
        "    elif istek==\"m\":\n",
        "        print(\"Muzlu turtanız hazır!\")\n",
        "    elif istek==\"v\":\n",
        "        print(\"Vişneli turtanız hazır!\")\n",
        "    elif istek==\"h\":\n",
        "        print(\"Bunu duyduğuma üzüldüm.Canın turta istediğinde burada olacağım\")\n",
        "        break\n",
        "    else:\n",
        "        print(\"Lütfen listedeki harflerden birini gir\")\n"
      ],
      "execution_count": null,
      "outputs": []
    },
    {
      "cell_type": "code",
      "metadata": {
        "id": "gx3mLld3EpFl"
      },
      "source": [
        ""
      ],
      "execution_count": null,
      "outputs": []
    },
    {
      "cell_type": "code",
      "metadata": {
        "id": "5Ust15juEpFm"
      },
      "source": [
        ""
      ],
      "execution_count": null,
      "outputs": []
    },
    {
      "cell_type": "markdown",
      "metadata": {
        "id": "dwsrklKBEpFm"
      },
      "source": [
        "# -FOR LOOPS"
      ]
    },
    {
      "cell_type": "code",
      "metadata": {
        "id": "D-I9WLSnEpFm"
      },
      "source": [
        ""
      ],
      "execution_count": null,
      "outputs": []
    },
    {
      "cell_type": "code",
      "metadata": {
        "id": "oe4PxivwEpFm"
      },
      "source": [
        "python = \"temelkomutlar\""
      ],
      "execution_count": null,
      "outputs": []
    },
    {
      "cell_type": "code",
      "metadata": {
        "id": "PlfrA-uyEpFn"
      },
      "source": [
        "for item in python:\n",
        "    print(item)"
      ],
      "execution_count": null,
      "outputs": []
    },
    {
      "cell_type": "code",
      "metadata": {
        "id": "LaXbcXtwEpFn"
      },
      "source": [
        ""
      ],
      "execution_count": null,
      "outputs": []
    },
    {
      "cell_type": "code",
      "metadata": {
        "id": "no_807rCEpFo"
      },
      "source": [
        "for num in [2,6,5,8]:\n",
        "    print(num)"
      ],
      "execution_count": null,
      "outputs": []
    },
    {
      "cell_type": "code",
      "metadata": {
        "id": "f6JviVieEpFo"
      },
      "source": [
        ""
      ],
      "execution_count": null,
      "outputs": []
    },
    {
      "cell_type": "code",
      "metadata": {
        "id": "zokX4b2XEpFo"
      },
      "source": [
        "for i in range(6):\n",
        "    print(i)"
      ],
      "execution_count": null,
      "outputs": []
    },
    {
      "cell_type": "code",
      "metadata": {
        "id": "GdWutASgEpFo"
      },
      "source": [
        ""
      ],
      "execution_count": null,
      "outputs": []
    },
    {
      "cell_type": "code",
      "metadata": {
        "id": "Zk6dAuRCEpFo"
      },
      "source": [
        "for letter in \"Python Komutlar\":\n",
        "    print(letter)"
      ],
      "execution_count": null,
      "outputs": []
    },
    {
      "cell_type": "code",
      "metadata": {
        "id": "8a_K3dAoEpFo"
      },
      "source": [
        "for word in \"Python Komutlar\".split():\n",
        "    print(word)"
      ],
      "execution_count": null,
      "outputs": []
    },
    {
      "cell_type": "code",
      "metadata": {
        "id": "QnO3-oGVEpFp"
      },
      "source": [
        ""
      ],
      "execution_count": null,
      "outputs": []
    },
    {
      "cell_type": "code",
      "metadata": {
        "id": "RqU_WVRjEpFp"
      },
      "source": [
        "nums = list(range(8))\n",
        "print(nums)"
      ],
      "execution_count": null,
      "outputs": []
    },
    {
      "cell_type": "code",
      "metadata": {
        "id": "vO6VENRwEpFp"
      },
      "source": [
        "nums = list(range(8))\n",
        "total = [ ]\n",
        "for items in nums:\n",
        "    total.append(items)\n",
        "    print(total)"
      ],
      "execution_count": null,
      "outputs": []
    },
    {
      "cell_type": "code",
      "metadata": {
        "id": "wex8iU3vEpFp"
      },
      "source": [
        "nums = list(range(8))\n",
        "total = [ ]\n",
        "for items in nums:\n",
        "    total.append(items)\n",
        "print(total)"
      ],
      "execution_count": null,
      "outputs": []
    },
    {
      "cell_type": "code",
      "metadata": {
        "id": "6oqKYbRXEpFp"
      },
      "source": [
        ""
      ],
      "execution_count": null,
      "outputs": []
    },
    {
      "cell_type": "code",
      "metadata": {
        "id": "Nvhp3EKzEpFp"
      },
      "source": [
        ""
      ],
      "execution_count": null,
      "outputs": []
    },
    {
      "cell_type": "code",
      "metadata": {
        "id": "nTRIVcPyEpFq"
      },
      "source": [
        "#B.T.\r\n"
      ],
      "execution_count": null,
      "outputs": []
    }
  ]
}